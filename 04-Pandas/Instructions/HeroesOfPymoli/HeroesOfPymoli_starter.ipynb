{
 "cells": [
  {
   "cell_type": "markdown",
   "metadata": {},
   "source": [
    "### Note\n",
    "* Instructions have been included for each segment. You do not have to follow them exactly, but they are included to help you think through the steps."
   ]
  },
  {
   "cell_type": "code",
   "execution_count": null,
   "metadata": {
    "scrolled": true
   },
   "outputs": [],
   "source": [
    "# Dependencies and Setup\n",
    "import pandas as pd\n",
    "import numpy as np\n",
    "\n",
    "# File to Load (Remember to Change These)\n",
    "csv_path = \"Resources/purchase_data.csv\"\n",
    "\n",
    "# Read Purchasing File and store into Pandas data frame\n",
    "purchase_data_df = pd.read_csv(csv_path)\n",
    "purchase_data_df"
   ]
  },
  {
   "cell_type": "markdown",
   "metadata": {},
   "source": [
    "* Display the total number of players\n"
   ]
  },
  {
   "cell_type": "code",
   "execution_count": null,
   "metadata": {},
   "outputs": [],
   "source": [
    "player_count = purchase_data_df[\"SN\"].nunique()\n",
    "print(\"Player Count =\", player_count)\n",
    "\n"
   ]
  },
  {
   "cell_type": "markdown",
   "metadata": {},
   "source": [
    "## Purchasing Analysis (Total)"
   ]
  },
  {
   "cell_type": "markdown",
   "metadata": {},
   "source": [
    "* Run basic calculations to obtain number of unique items, average price, etc.\n",
    "\n",
    "\n",
    "* Create a summary data frame to hold the results\n",
    "\n",
    "\n",
    "* Optional: give the displayed data cleaner formatting\n",
    "\n",
    "\n",
    "* Display the summary data frame\n"
   ]
  },
  {
   "cell_type": "code",
   "execution_count": null,
   "metadata": {
    "scrolled": true
   },
   "outputs": [],
   "source": [
    "unique_item_count =  purchase_data_df[\"Item Name\"].nunique()\n",
    "unique_purchase_count = purchase_data_df [\"Purchase ID\"].nunique()\n",
    "unique_sale_item = purchase_data_df[\"Item ID\"].nunique()\n",
    "average_price = purchase_data_df[\"Price\"].mean()\n",
    "print(\"Unique Item Count =\", unique_item_count)\n",
    "print(\"Unique Purchase Count=\", unique_purchase_count)\n",
    "print(\"Unique Sale Item =\", unique_sale_item)\n",
    "print(\"Average Price =\", average_price)\n",
    "\n"
   ]
  },
  {
   "cell_type": "code",
   "execution_count": null,
   "metadata": {},
   "outputs": [],
   "source": [
    "# create a new summary table for the above calculations\n",
    "summary_table_df = pd.DataFrame({\"Item Count\": [unique_item_count]\n",
    "                          ,\"Purchase Count\": [unique_purchase_count]\n",
    "                          ,\" Item Count\": [unique_sale_item]\n",
    "                          ,\"Average Price\": [average_price]})\n",
    "summary_table_df\n",
    "\n"
   ]
  },
  {
   "cell_type": "markdown",
   "metadata": {},
   "source": [
    "## Gender Demographics"
   ]
  },
  {
   "cell_type": "markdown",
   "metadata": {},
   "source": [
    "* Percentage and Count of Male Players\n",
    "\n",
    "\n",
    "* Percentage and Count of Female Players\n",
    "\n",
    "\n",
    "* Percentage and Count of Other / Non-Disclosed\n",
    "\n",
    "\n"
   ]
  },
  {
   "cell_type": "code",
   "execution_count": null,
   "metadata": {},
   "outputs": [],
   "source": [
    "Percent_gender_count = (purchase_data_df[\"Gender\"].value_counts())/100\n",
    "print(Percent_gender_count)\n",
    "\n"
   ]
  },
  {
   "cell_type": "markdown",
   "metadata": {},
   "source": [
    "\n",
    "## Purchasing Analysis (Gender)"
   ]
  },
  {
   "cell_type": "markdown",
   "metadata": {},
   "source": [
    "* Run basic calculations to obtain purchase count, avg. purchase price, avg. purchase total per person etc. by gender\n",
    "\n",
    "\n",
    "\n",
    "\n",
    "* Create a summary data frame to hold the results\n",
    "\n",
    "\n",
    "* Optional: give the displayed data cleaner formatting\n",
    "\n",
    "\n",
    "* Display the summary data frame"
   ]
  },
  {
   "cell_type": "code",
   "execution_count": null,
   "metadata": {},
   "outputs": [],
   "source": [
    "purchase_analysis_df = purchase_data_df.groupby(['Gender'])\n",
    "print(purchase_analysis_df)\n",
    "\n",
    "purchase_analysis_df.count()\n",
    "\n"
   ]
  },
  {
   "cell_type": "code",
   "execution_count": null,
   "metadata": {},
   "outputs": [],
   "source": [
    "purchase_count = purchase_analysis_df[\"Purchase ID\"].count()\n",
    "avg_purchase_price = purchase_analysis_df[\"Price\"].mean()\n",
    "#avg_purchase_per_person = purchase_data_df[\"Price\"].sum()/ purchase_data_df[\"SN\"]\n",
    "print(purchase_count)\n",
    "print(avg_purchase_price)\n",
    "#print(avg_purchase_per_person)"
   ]
  },
  {
   "cell_type": "markdown",
   "metadata": {},
   "source": [
    "## Age Demographics"
   ]
  },
  {
   "cell_type": "markdown",
   "metadata": {},
   "source": [
    "* Establish bins for ages\n",
    "\n",
    "\n",
    "* Categorize the existing players using the age bins. Hint: use pd.cut()\n",
    "\n",
    "\n",
    "* Calculate the numbers and percentages by age group\n",
    "\n",
    "\n",
    "* Create a summary data frame to hold the results\n",
    "\n",
    "\n",
    "* Optional: round the percentage column to two decimal points\n",
    "\n",
    "\n",
    "* Display Age Demographics Table\n"
   ]
  },
  {
   "cell_type": "code",
   "execution_count": null,
   "metadata": {},
   "outputs": [],
   "source": [
    "#know the range of age in the data set\n",
    "print(\"Min Age =\", purchase_data_df[\"Age\"].min())\n",
    "print(\"Max Age=\", purchase_data_df[\"Age\"].max())\n"
   ]
  },
  {
   "cell_type": "code",
   "execution_count": null,
   "metadata": {
    "scrolled": true
   },
   "outputs": [],
   "source": [
    "#Calculate the numbers and percentages by age group\n",
    "# Create a goroupby object\n",
    "group_percent =purchase_data_df[\"Age\"].groupby(purchase_data_df[\"SN\"])\n",
    "group_percent\n",
    "\n",
    "print(group_percent)"
   ]
  },
  {
   "cell_type": "code",
   "execution_count": null,
   "metadata": {},
   "outputs": [],
   "source": [
    "# Create the bins in which Data will be held\n",
    "bins = [0, 9, 14, 19, 24, 29, 34, 39, 48]\n",
    "# Create the group names for the bins\n",
    "age_group =  [\"0 to 9\", \"10 to 14\", \"15 to 19\", \"20 to 24\", \"25 to 29\", \"30 to 34\", \"35 to 39\", \"40 to 48\"]\n",
    "\n",
    "\n",
    "purchase_data_df[\"Age\"] = pd.cut(purchase_data_df[\"Age\"], bins, labels=age_group)\n",
    "purchase_data_df"
   ]
  },
  {
   "cell_type": "code",
   "execution_count": null,
   "metadata": {},
   "outputs": [],
   "source": [
    "#count the values by age groups\n",
    "total_age_count = purchase_data_df[\"Age\"].value_counts()\n",
    "\n",
    "# percentage\n",
    "age_percentage = (total_age_count/player_count)*100\n",
    "print(\"age_percentage:\", age_percentage)\n"
   ]
  },
  {
   "cell_type": "markdown",
   "metadata": {},
   "source": [
    "## Purchasing Analysis (Age)"
   ]
  },
  {
   "cell_type": "markdown",
   "metadata": {},
   "source": [
    "* Bin the purchase_data data frame by age\n",
    "\n",
    "\n",
    "* Run basic calculations to obtain purchase count, avg. purchase price, avg. purchase total per person etc. in the table below\n",
    "\n",
    "\n",
    "* Create a summary data frame to hold the results\n",
    "\n",
    "\n",
    "* Optional: give the displayed data cleaner formatting\n",
    "\n",
    "\n",
    "* Display the summary data frame"
   ]
  },
  {
   "cell_type": "code",
   "execution_count": null,
   "metadata": {},
   "outputs": [],
   "source": [
    "#purchase analysis\n",
    "item_count =  purchase_data_df[\"Item Name\"].nunique()\n",
    "purchase_count = purchase_data_df [\"Purchase ID\"].nunique()\n",
    "avg_purchase_price =  purchase_data_df[\"Price\"].mean()\n",
    "avg_purchase_total_per_person =  purchase_data_df[\"Price\"].sum()/player_count\n",
    "\n",
    "print(\"Item Count =\", item_count)\n",
    "print(\"Purchase Count =\", unique_purchase_count)\n",
    "print(\"Average_Purchase_Price =\", avg_purchase_price)\n",
    "print(\"Avg_Purchase_Total_Per_Person =\", avg_purchase_total_per_person)\n",
    "\n",
    "\n",
    "\n"
   ]
  },
  {
   "cell_type": "code",
   "execution_count": null,
   "metadata": {},
   "outputs": [],
   "source": [
    "purchase_analysis_df = pd.DataFrame({\"Item Count\": [item_count]\n",
    "                          ,\"Purchase Count\": [unique_purchase_count]\n",
    "                          ,\"Average_Purchase_Price\": [avg_purchase_price]\n",
    "                          ,\"Avg_Purchase_Total_Per_Person\": [avg_purchase_total_per_person]})\n",
    "purchase_analysis_df \n",
    "\n",
    "\n"
   ]
  },
  {
   "cell_type": "markdown",
   "metadata": {},
   "source": [
    "## Top Spenders"
   ]
  },
  {
   "cell_type": "markdown",
   "metadata": {},
   "source": [
    "* Run basic calculations to obtain the results in the table below\n",
    "\n",
    "\n",
    "* Create a summary data frame to hold the results\n",
    "\n",
    "\n",
    "* Sort the total purchase value column in descending order\n",
    "\n",
    "\n",
    "* Optional: give the displayed data cleaner formatting\n",
    "\n",
    "\n",
    "* Display a preview of the summary data frame\n",
    "\n"
   ]
  },
  {
   "cell_type": "code",
   "execution_count": null,
   "metadata": {},
   "outputs": [],
   "source": [
    "#top spenders\n",
    "top_spenders = purchase_data_df['Price'].groupby(purchase_data_df['SN']).value_counts()\n",
    " \n",
    "print(top_spenders.groupby(level=[0,1]).nlargest(1))\n"
   ]
  },
  {
   "cell_type": "markdown",
   "metadata": {},
   "source": [
    "## Most Popular Items"
   ]
  },
  {
   "cell_type": "markdown",
   "metadata": {},
   "source": [
    "* Retrieve the Item ID, Item Name, and Item Price columns\n",
    "\n",
    "\n",
    "* Group by Item ID and Item Name. Perform calculations to obtain purchase count, item price, and total purchase value\n",
    "\n",
    "\n",
    "* Create a summary data frame to hold the results\n",
    "\n",
    "\n",
    "* Sort the purchase count column in descending order\n",
    "\n",
    "\n",
    "* Optional: give the displayed data cleaner formatting\n",
    "\n",
    "\n",
    "* Display a preview of the summary data frame\n",
    "\n"
   ]
  },
  {
   "cell_type": "code",
   "execution_count": null,
   "metadata": {},
   "outputs": [],
   "source": [
    "#to calculate the most popular items, create a new DF \n",
    "reduced_item_df = purchase_data_df.loc[:, [\"Item ID\",\"Item Name\",\"Price\"]]\n",
    "item_purchase_count = reduced_item_df.groupby([\"Item Name\", \"Item ID\"]).count()[\"Price\"]\n",
    "total_purchase = reduced_item_df.groupby([\"Item Name\",\"Item ID\"]).sum()[\"Price\"]\n",
    "item_price = total_purchase/item_purchase_count\n",
    "popular_item_df = pd.DataFrame({\"Purchase Count\": item_purchase_count,\n",
    "                                \"Item Price\": item_price,\n",
    "                                \"Total Purchase\": total_purchase})\n",
    "sorted_df = popular_item_df.sort_values(['Purchase Count'], ascending=[False])\n",
    "sorted_df [\"Item Price\"]=sorted_df[\"Item Price\"].map(\"${:,.2f}\".format)\n",
    "sorted_df[\"Total Purchase\"]=sorted_df[\"Total Purchase\"].map(\"${:.2f}\".format)\n",
    "sorted_df\n",
    "\n",
    "\n"
   ]
  },
  {
   "cell_type": "markdown",
   "metadata": {},
   "source": [
    "## Most Profitable Items"
   ]
  },
  {
   "cell_type": "markdown",
   "metadata": {},
   "source": [
    "* Sort the above table by total purchase value in descending order\n",
    "\n",
    "\n",
    "* Optional: give the displayed data cleaner formatting\n",
    "\n",
    "\n",
    "* Display a preview of the data frame\n",
    "\n"
   ]
  },
  {
   "cell_type": "code",
   "execution_count": null,
   "metadata": {
    "scrolled": true
   },
   "outputs": [],
   "source": [
    "most_profitable_df = popular_item_df.sort_values([' Total Purchase'], ascending=[False])\n",
    "most_profitable_df[\"Item Price\"]=most_profitable_df[\"Item Price\"].map(\"${:,.2f}\".format)\n",
    "most_profitable_df[\"Total Purchase\"]=most_profitable_df[\"Total Purchase\"].map(\"${:,.2f}\".format)\n",
    "most_profitable_df\n"
   ]
  },
  {
   "cell_type": "code",
   "execution_count": null,
   "metadata": {},
   "outputs": [],
   "source": []
  },
  {
   "cell_type": "code",
   "execution_count": null,
   "metadata": {},
   "outputs": [],
   "source": []
  }
 ],
 "metadata": {
  "anaconda-cloud": {},
  "kernel_info": {
   "name": "python3"
  },
  "kernelspec": {
   "display_name": "Python 3",
   "language": "python",
   "name": "python3"
  },
  "language_info": {
   "codemirror_mode": {
    "name": "ipython",
    "version": 3
   },
   "file_extension": ".py",
   "mimetype": "text/x-python",
   "name": "python",
   "nbconvert_exporter": "python",
   "pygments_lexer": "ipython3",
   "version": "3.7.6"
  },
  "latex_envs": {
   "LaTeX_envs_menu_present": true,
   "autoclose": false,
   "autocomplete": true,
   "bibliofile": "biblio.bib",
   "cite_by": "apalike",
   "current_citInitial": 1,
   "eqLabelWithNumbers": true,
   "eqNumInitial": 1,
   "hotkeys": {
    "equation": "Ctrl-E",
    "itemize": "Ctrl-I"
   },
   "labels_anchors": false,
   "latex_user_defs": false,
   "report_style_numbering": false,
   "user_envs_cfg": false
  },
  "nteract": {
   "version": "0.2.0"
  }
 },
 "nbformat": 4,
 "nbformat_minor": 2
}
